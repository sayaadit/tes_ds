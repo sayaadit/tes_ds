{
 "cells": [
  {
   "cell_type": "markdown",
   "metadata": {},
   "source": [
    "# Mengolah Data Pengiriman"
   ]
  },
  {
   "cell_type": "markdown",
   "metadata": {},
   "source": [
    "## Importing Library"
   ]
  },
  {
   "cell_type": "markdown",
   "metadata": {},
   "source": [
    "Pada bagian ini instalasi library yang dibutuhkan untuk mengolah data diantaranya:\n",
    "1. Pandas\n",
    "2. Numpy\n",
    "3. Geolocation\n",
    "4. Google Maps API"
   ]
  },
  {
   "cell_type": "code",
   "execution_count": 71,
   "metadata": {},
   "outputs": [],
   "source": [
    "import pandas as pd\n",
    "import numpy as np\n",
    "import csv\n",
    "import datetime\n",
    "import matplotlib.pyplot as plt"
   ]
  },
  {
   "cell_type": "markdown",
   "metadata": {},
   "source": [
    "## Read File"
   ]
  },
  {
   "cell_type": "code",
   "execution_count": 72,
   "metadata": {},
   "outputs": [
    {
     "name": "stdout",
     "output_type": "stream",
     "text": [
      "                                               to_address booking_date\n",
      "0       JL. RAYA PASIR PUTIH NO. 6 RT 05/RW 03 (DEPAN ...     15-12-17\n",
      "1       LEGENDA WISATA ZONA EINSTEIN BLOK R 12 NO 6 WA...     15-12-17\n",
      "2       PERM CLUSTER TIDAR ASRI BLOK C7 NO 17 KEL RANG...     15-12-17\n",
      "3       CIBUNTU SAYURAN RT 12/06 KEL WARUNG MUNCANG BA...     15-12-17\n",
      "4       JL.CILENGKRANG 1 KOMP TIRTAWENING NO 10 UJUNG ...     15-12-17\n",
      "...                                                   ...          ...\n",
      "999928  JL.PARIANOM B4 NO.33 PERUM SOG ATEN MANGUHARJO...     11-12-17\n",
      "999929  PERUM PESONA BOUGENVILLE C6 J L. JOYO UTOMO V,...     11-12-17\n",
      "999930  TAMAN ALVERA REGENCY BLOK L-3  MEDOKAN AYU RUN...     11-12-17\n",
      "999931  H MAYJEND SUTOYO DKT KTR  SAMSAT PAMLET MIE AC...     11-12-17\n",
      "999932  KP. BABAKAN KOPO RT 03 RW 03 D S. LAMPEGAN KEC...     11-12-17\n",
      "\n",
      "[999933 rows x 2 columns]\n"
     ]
    },
    {
     "data": {
      "text/plain": [
       "(999933, 2)"
      ]
     },
     "execution_count": 72,
     "metadata": {},
     "output_type": "execute_result"
    }
   ],
   "source": [
    "data = pd.read_csv(\"datasample.csv\")\n",
    "print(data)\n",
    "data.shape"
   ]
  },
  {
   "cell_type": "markdown",
   "metadata": {},
   "source": [
    "## Preprocess Data Set"
   ]
  },
  {
   "cell_type": "markdown",
   "metadata": {},
   "source": [
    "1. Menghapus baris yang tidak memiliki alamat atau kolom alamat berupa string kosong "
   ]
  },
  {
   "cell_type": "code",
   "execution_count": 117,
   "metadata": {},
   "outputs": [
    {
     "data": {
      "text/plain": [
       "to_address      0\n",
       "booking_date    0\n",
       "bulan           0\n",
       "dtype: int64"
      ]
     },
     "execution_count": 117,
     "metadata": {},
     "output_type": "execute_result"
    }
   ],
   "source": [
    "data = data[data.to_address != '  ']\n",
    "data.isnull().sum()"
   ]
  },
  {
   "cell_type": "markdown",
   "metadata": {},
   "source": [
    "2. Mengubah format kolom booking_data menjadi format datetime"
   ]
  },
  {
   "cell_type": "code",
   "execution_count": 74,
   "metadata": {},
   "outputs": [
    {
     "data": {
      "text/plain": [
       "DatetimeIndex(['2017-12-15', '2017-12-15', '2017-12-15', '2017-12-15',\n",
       "               '2017-12-15', '2017-12-15', '2017-12-15', '2017-12-15',\n",
       "               '2017-12-15', '2017-12-15',\n",
       "               ...\n",
       "               '2017-11-12', '2017-11-12', '2017-11-12', '2017-11-12',\n",
       "               '2017-11-12', '2017-11-12', '2017-11-12', '2017-11-12',\n",
       "               '2017-11-12', '2017-11-12'],\n",
       "              dtype='datetime64[ns]', name='booking', length=999933, freq=None)"
      ]
     },
     "execution_count": 74,
     "metadata": {},
     "output_type": "execute_result"
    }
   ],
   "source": [
    "data_pengiriman = pd.DataFrame()\n",
    "data_pengiriman['booking'] = data['booking_date']\n",
    "data_pengiriman.index = pd.to_datetime(data_pengiriman['booking'])\n",
    "data_pengiriman.index"
   ]
  },
  {
   "cell_type": "code",
   "execution_count": 75,
   "metadata": {},
   "outputs": [],
   "source": [
    "import calmap"
   ]
  },
  {
   "cell_type": "code",
   "execution_count": 76,
   "metadata": {},
   "outputs": [
    {
     "name": "stdout",
     "output_type": "stream",
     "text": [
      "DatetimeIndex(['2017-12-15', '2017-12-15', '2017-12-15', '2017-12-15',\n",
      "               '2017-12-15', '2017-12-15', '2017-12-15', '2017-12-15',\n",
      "               '2017-12-15', '2017-12-15',\n",
      "               ...\n",
      "               '2017-11-12', '2017-11-12', '2017-11-12', '2017-11-12',\n",
      "               '2017-11-12', '2017-11-12', '2017-11-12', '2017-11-12',\n",
      "               '2017-11-12', '2017-11-12'],\n",
      "              dtype='datetime64[ns]', name='booking', length=999933, freq=None)\n"
     ]
    }
   ],
   "source": [
    "time_range = pd.date_range(start=data_pengiriman.index[0], end=data_pengiriman.index[-1])\n",
    "days = data_pengiriman.index\n",
    "print(days)\n",
    "events = pd.Series(np.ones(len(days)), index=days)"
   ]
  },
  {
   "cell_type": "markdown",
   "metadata": {},
   "source": [
    "## Mendapatkan Aktivitas Pengiriman"
   ]
  },
  {
   "cell_type": "code",
   "execution_count": 77,
   "metadata": {},
   "outputs": [
    {
     "data": {
      "text/plain": [
       "(<Figure size 864x720 with 1 Axes>,\n",
       " array([<matplotlib.axes._subplots.AxesSubplot object at 0x000001D8ECD26160>],\n",
       "       dtype=object))"
      ]
     },
     "execution_count": 77,
     "metadata": {},
     "output_type": "execute_result"
    },
    {
     "data": {
      "image/png": "[encoded data removed]",
      "text/plain": [
       "<Figure size 864x720 with 1 Axes>"
      ]
     },
     "metadata": {
      "needs_background": "light"
     },
     "output_type": "display_data"
    }
   ],
   "source": [
    "calmap.calendarplot(events, monthticks=1, daylabels='MTWTFSS',\n",
    "                    dayticks=[0,2,4,6], cmap='YlGn',\n",
    "                    fillcolor='grey', linewidth=0,\n",
    "                    fig_kws=dict(figsize=(12, 10)))"
   ]
  },
  {
   "cell_type": "markdown",
   "metadata": {},
   "source": [
    "Berdasarkan heatmap diatas, dapat disimpulkan bahwa pengiriman terjadi di dua bulan di 2017. Yaitu, bulan November dan bulan Desember. Bila dilihat pada bulan November terjadi pengiriman dengan intensitas tinggi. Sedangkan pada bulan Desember terdapat 2 hari pengiriman, dengan intensitas tinggi.\n",
    "Jadi, dapat disimpulkan bahwa sebaran pengiriman terpusat pada satu s.d. tiga hari pada setiap bulannya."
   ]
  },
  {
   "cell_type": "markdown",
   "metadata": {},
   "source": [
    "### Menghitung Jumlah Pengiriman Setiap Bulan"
   ]
  },
  {
   "cell_type": "markdown",
   "metadata": {},
   "source": [
    "##### Jumlah Pengiriman Bulan November dan Bulan Desember"
   ]
  },
  {
   "cell_type": "code",
   "execution_count": 121,
   "metadata": {},
   "outputs": [
    {
     "data": {
      "text/html": [
       "<div>\n",
       "<style scoped>\n",
       "    .dataframe tbody tr th:only-of-type {\n",
       "        vertical-align: middle;\n",
       "    }\n",
       "\n",
       "    .dataframe tbody tr th {\n",
       "        vertical-align: top;\n",
       "    }\n",
       "\n",
       "    .dataframe thead th {\n",
       "        text-align: right;\n",
       "    }\n",
       "</style>\n",
       "<table border=\"1\" class=\"dataframe\">\n",
       "  <thead>\n",
       "    <tr style=\"text-align: right;\">\n",
       "      <th></th>\n",
       "      <th>to_address</th>\n",
       "      <th>booking_date</th>\n",
       "      <th>bulan</th>\n",
       "    </tr>\n",
       "  </thead>\n",
       "  <tbody>\n",
       "    <tr>\n",
       "      <th>0</th>\n",
       "      <td>JL. RAYA PASIR PUTIH NO. 6 RT 05/RW 03 (DEPAN ...</td>\n",
       "      <td>15-12-17</td>\n",
       "      <td>12</td>\n",
       "    </tr>\n",
       "    <tr>\n",
       "      <th>1</th>\n",
       "      <td>LEGENDA WISATA ZONA EINSTEIN BLOK R 12 NO 6 WA...</td>\n",
       "      <td>15-12-17</td>\n",
       "      <td>12</td>\n",
       "    </tr>\n",
       "    <tr>\n",
       "      <th>2</th>\n",
       "      <td>PERM CLUSTER TIDAR ASRI BLOK C7 NO 17 KEL RANG...</td>\n",
       "      <td>15-12-17</td>\n",
       "      <td>12</td>\n",
       "    </tr>\n",
       "    <tr>\n",
       "      <th>3</th>\n",
       "      <td>CIBUNTU SAYURAN RT 12/06 KEL WARUNG MUNCANG BA...</td>\n",
       "      <td>15-12-17</td>\n",
       "      <td>12</td>\n",
       "    </tr>\n",
       "    <tr>\n",
       "      <th>4</th>\n",
       "      <td>JL.CILENGKRANG 1 KOMP TIRTAWENING NO 10 UJUNG ...</td>\n",
       "      <td>15-12-17</td>\n",
       "      <td>12</td>\n",
       "    </tr>\n",
       "    <tr>\n",
       "      <th>...</th>\n",
       "      <td>...</td>\n",
       "      <td>...</td>\n",
       "      <td>...</td>\n",
       "    </tr>\n",
       "    <tr>\n",
       "      <th>999928</th>\n",
       "      <td>JL.PARIANOM B4 NO.33 PERUM SOG ATEN MANGUHARJO...</td>\n",
       "      <td>11-12-17</td>\n",
       "      <td>11</td>\n",
       "    </tr>\n",
       "    <tr>\n",
       "      <th>999929</th>\n",
       "      <td>PERUM PESONA BOUGENVILLE C6 J L. JOYO UTOMO V,...</td>\n",
       "      <td>11-12-17</td>\n",
       "      <td>11</td>\n",
       "    </tr>\n",
       "    <tr>\n",
       "      <th>999930</th>\n",
       "      <td>TAMAN ALVERA REGENCY BLOK L-3  MEDOKAN AYU RUN...</td>\n",
       "      <td>11-12-17</td>\n",
       "      <td>11</td>\n",
       "    </tr>\n",
       "    <tr>\n",
       "      <th>999931</th>\n",
       "      <td>H MAYJEND SUTOYO DKT KTR  SAMSAT PAMLET MIE AC...</td>\n",
       "      <td>11-12-17</td>\n",
       "      <td>11</td>\n",
       "    </tr>\n",
       "    <tr>\n",
       "      <th>999932</th>\n",
       "      <td>KP. BABAKAN KOPO RT 03 RW 03 D S. LAMPEGAN KEC...</td>\n",
       "      <td>11-12-17</td>\n",
       "      <td>11</td>\n",
       "    </tr>\n",
       "  </tbody>\n",
       "</table>\n",
       "<p>993734 rows × 3 columns</p>\n",
       "</div>"
      ],
      "text/plain": [
       "                                               to_address booking_date  bulan\n",
       "0       JL. RAYA PASIR PUTIH NO. 6 RT 05/RW 03 (DEPAN ...     15-12-17     12\n",
       "1       LEGENDA WISATA ZONA EINSTEIN BLOK R 12 NO 6 WA...     15-12-17     12\n",
       "2       PERM CLUSTER TIDAR ASRI BLOK C7 NO 17 KEL RANG...     15-12-17     12\n",
       "3       CIBUNTU SAYURAN RT 12/06 KEL WARUNG MUNCANG BA...     15-12-17     12\n",
       "4       JL.CILENGKRANG 1 KOMP TIRTAWENING NO 10 UJUNG ...     15-12-17     12\n",
       "...                                                   ...          ...    ...\n",
       "999928  JL.PARIANOM B4 NO.33 PERUM SOG ATEN MANGUHARJO...     11-12-17     11\n",
       "999929  PERUM PESONA BOUGENVILLE C6 J L. JOYO UTOMO V,...     11-12-17     11\n",
       "999930  TAMAN ALVERA REGENCY BLOK L-3  MEDOKAN AYU RUN...     11-12-17     11\n",
       "999931  H MAYJEND SUTOYO DKT KTR  SAMSAT PAMLET MIE AC...     11-12-17     11\n",
       "999932  KP. BABAKAN KOPO RT 03 RW 03 D S. LAMPEGAN KEC...     11-12-17     11\n",
       "\n",
       "[993734 rows x 3 columns]"
      ]
     },
     "execution_count": 121,
     "metadata": {},
     "output_type": "execute_result"
    }
   ],
   "source": [
    "pd.to_datetime(data['booking_date'])\n",
    "#data['bulan'] = data['booking_date'].month\n",
    "data['bulan'] = data['booking_date']\n",
    "data['bulan'] = pd.DatetimeIndex(data['booking_date']).month\n",
    "data.head()\n",
    "data"
   ]
  },
  {
   "cell_type": "code",
   "execution_count": 139,
   "metadata": {},
   "outputs": [
    {
     "name": "stdout",
     "output_type": "stream",
     "text": [
      "329917\n",
      "663817\n"
     ]
    },
    {
     "data": {
      "image/png": "[encoded data removed]",
      "text/plain": [
       "<Figure size 640x480 with 1 Axes>"
      ]
     },
     "metadata": {},
     "output_type": "display_data"
    }
   ],
   "source": [
    "des=len(data[(data['bulan']==12)])\n",
    "nov=len(data[(data['bulan']==11)])\n",
    "\n",
    "print(nov)\n",
    "print(des)\n",
    "\n",
    "import matplotlib.pyplot as plt; plt.rcdefaults()\n",
    "import numpy as np\n",
    "import matplotlib.pyplot as plt\n",
    "\n",
    "objects = ('November', 'Desember')\n",
    "y_pos = np.arange(len(objects))\n",
    "performance = [nov, des]\n",
    "\n",
    "plt.bar(y_pos, performance, align='center', alpha=0.5)\n",
    "plt.xticks(y_pos, objects)\n",
    "plt.ylabel('Banyak Kiriman')\n",
    "plt.title('Banyaknya Pengiriman Pada Tahun 2017')\n",
    "\n",
    "plt.show()\n"
   ]
  },
  {
   "cell_type": "markdown",
   "metadata": {},
   "source": [
    "Dapat disimpulkan berdasarkan diagrama batang diatas, banyaknya booking pengiriman pada bulan desember meningkat dua kali lipat bila dibandingkan dengan bulan november. Hal ini bisa diasumsikan bahwa pada bulan Desember lebih banyak event penjualan seperti natal, midnight sale, dan lain lain. "
   ]
  }
 ],
 "metadata": {
  "kernelspec": {
   "display_name": "Python 3",
   "language": "python",
   "name": "python3"
  },
  "language_info": {
   "codemirror_mode": {
    "name": "ipython",
    "version": 3
   },
   "file_extension": ".py",
   "mimetype": "text/x-python",
   "name": "python",
   "nbconvert_exporter": "python",
   "pygments_lexer": "ipython3",
   "version": "3.7.3"
  }
 },
 "nbformat": 4,
 "nbformat_minor": 2
}
